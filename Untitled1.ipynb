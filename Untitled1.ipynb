{
 "cells": [
  {
   "cell_type": "code",
   "execution_count": 3,
   "metadata": {},
   "outputs": [
    {
     "ename": "ImportError",
     "evalue": "cannot import name 'urlopen' from 'urllib' (/opt/anaconda3/lib/python3.7/urllib/__init__.py)",
     "output_type": "error",
     "traceback": [
      "\u001b[0;31m---------------------------------------------------------------------------\u001b[0m",
      "\u001b[0;31mImportError\u001b[0m                               Traceback (most recent call last)",
      "\u001b[0;32m<ipython-input-3-bc74901a8d0f>\u001b[0m in \u001b[0;36m<module>\u001b[0;34m\u001b[0m\n\u001b[1;32m      7\u001b[0m \u001b[0;32mimport\u001b[0m \u001b[0murllib\u001b[0m\u001b[0;34m\u001b[0m\u001b[0;34m\u001b[0m\u001b[0m\n\u001b[1;32m      8\u001b[0m \u001b[0;32mfrom\u001b[0m \u001b[0msubprocess\u001b[0m \u001b[0;32mimport\u001b[0m \u001b[0mcall\u001b[0m\u001b[0;34m\u001b[0m\u001b[0;34m\u001b[0m\u001b[0m\n\u001b[0;32m----> 9\u001b[0;31m \u001b[0;32mfrom\u001b[0m \u001b[0murllib\u001b[0m \u001b[0;32mimport\u001b[0m \u001b[0murlopen\u001b[0m\u001b[0;34m\u001b[0m\u001b[0;34m\u001b[0m\u001b[0m\n\u001b[0m\u001b[1;32m     10\u001b[0m \u001b[0;32mimport\u001b[0m \u001b[0mos\u001b[0m\u001b[0;34m\u001b[0m\u001b[0;34m\u001b[0m\u001b[0m\n\u001b[1;32m     11\u001b[0m \u001b[0;32mimport\u001b[0m \u001b[0mmath\u001b[0m\u001b[0;34m\u001b[0m\u001b[0;34m\u001b[0m\u001b[0m\n",
      "\u001b[0;31mImportError\u001b[0m: cannot import name 'urlopen' from 'urllib' (/opt/anaconda3/lib/python3.7/urllib/__init__.py)"
     ]
    }
   ],
   "source": [
    "#!/usr/bin/env python\n",
    "# Clone or update all a user's gists\n",
    "# curl -ks https://raw.github.com/gist/5466075/gist-backup.py | USER=fedir python\n",
    "# USER=fedir python gist-backup.py\n",
    "\n",
    "import json\n",
    "import urllib\n",
    "from subprocess import call\n",
    "from urllib import urlopen\n",
    "import os\n",
    "import math\n",
    "USER = 'salmonofdoubt' #os.environ['USER']\n",
    "\n",
    "perpage=30.0\n",
    "userurl = urlopen('https://api.github.com/users/' + USER)\n",
    "public_gists = json.load(userurl)\n",
    "gistcount = public_gists['public_gists']\n",
    "print(\"Found gists : \" + str(gistcount))\n",
    "pages = int(math.ceil(float(gistcount)/perpage))\n",
    "print(\"Found pages : \" + str(pages))\n",
    "\n",
    "f=open('./contents.txt', 'w+')\n",
    "\n",
    "for page in range(pages):\n",
    "    pageNumber = str(page + 1)\n",
    "    print(\"Processing page number \" + pageNumber)\n",
    "    pageUrl = 'https://api.github.com/users/' + USER  + '/gists?page=' + pageNumber + '&per_page=' + str(int(perpage))\n",
    "    u = urlopen (pageUrl)\n",
    "    gists = json.load(u)\n",
    "    startd = os.getcwd()\n",
    "    for gist in gists:\n",
    "        gistd = gist['id']\n",
    "        gistUrl = 'git://gist.github.com/' + gistd + '.git' \n",
    "        if os.path.isdir(gistd):\n",
    "            os.chdir(gistd)\n",
    "            call(['git', 'pull', gistUrl])\n",
    "            os.chdir(startd)\n",
    "        else:\n",
    "            call(['git', 'clone', gistUrl])\n",
    "        if gist['description'] == None:\n",
    "            description = ''\n",
    "        else:\n",
    "            description = gist['description'].encode('utf8').replace(\"\\r\",' ').replace(\"\\n\",' ')\n",
    "        print >> f, gist['id'], gistUrl, description"
   ]
  },
  {
   "cell_type": "code",
   "execution_count": null,
   "metadata": {},
   "outputs": [],
   "source": []
  }
 ],
 "metadata": {
  "kernelspec": {
   "display_name": "Python 3",
   "language": "python",
   "name": "python3"
  },
  "language_info": {
   "codemirror_mode": {
    "name": "ipython",
    "version": 3
   },
   "file_extension": ".py",
   "mimetype": "text/x-python",
   "name": "python",
   "nbconvert_exporter": "python",
   "pygments_lexer": "ipython3",
   "version": "3.7.4"
  }
 },
 "nbformat": 4,
 "nbformat_minor": 2
}
