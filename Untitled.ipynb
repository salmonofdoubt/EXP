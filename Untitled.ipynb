{
 "cells": [
  {
   "cell_type": "code",
   "execution_count": 7,
   "metadata": {},
   "outputs": [],
   "source": [
    "# first: mkdir user && cd user && cp /path/to/get_gists.py .\n",
    "# python3 get_gists.py user\n",
    "import requests\n",
    "import sys\n",
    "from subprocess import call\n",
    "\n",
    "user = 'salmonofdoubt'\n",
    "\n",
    "r = requests.get('https://api.github.com/users/{0}/gists'.format(user))\n",
    "\n",
    "for i in r.json():\n",
    "        folder = i['description'][0:255] if i['description'] else i['id']\n",
    "        call(['git', 'clone', i['git_pull_url'], folder])\n",
    "        description_file = './{0}/description.txt'.format(folder)\n",
    "        with open(description_file, 'w') as f:\n",
    "                f.write('{0}\\n'.format(i['description']))"
   ]
  },
  {
   "cell_type": "code",
   "execution_count": null,
   "metadata": {},
   "outputs": [],
   "source": []
  },
  {
   "cell_type": "code",
   "execution_count": null,
   "metadata": {},
   "outputs": [],
   "source": []
  }
 ],
 "metadata": {
  "kernelspec": {
   "display_name": "Python 3",
   "language": "python",
   "name": "python3"
  },
  "language_info": {
   "codemirror_mode": {
    "name": "ipython",
    "version": 3
   },
   "file_extension": ".py",
   "mimetype": "text/x-python",
   "name": "python",
   "nbconvert_exporter": "python",
   "pygments_lexer": "ipython3",
   "version": "3.7.4"
  }
 },
 "nbformat": 4,
 "nbformat_minor": 2
}
